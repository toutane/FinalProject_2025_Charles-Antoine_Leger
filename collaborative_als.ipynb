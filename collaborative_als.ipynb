{
 "cells": [
  {
   "cell_type": "markdown",
   "id": "355e3eb5",
   "metadata": {},
   "source": [
    "# Alternating Least Squares (ALS) Collaborative Filtering Recommender"
   ]
  },
  {
   "cell_type": "code",
   "execution_count": 81,
   "id": "926180df",
   "metadata": {},
   "outputs": [],
   "source": [
    "import pandas as pd\n",
    "import numpy as np\n",
    "from pyspark.sql import SparkSession\n",
    "from pyspark.ml import Pipeline\n",
    "from pyspark.ml.feature import StringIndexer\n",
    "from pyspark.ml.evaluation import RegressionEvaluator\n",
    "from pyspark.ml.recommendation import ALS"
   ]
  },
  {
   "cell_type": "markdown",
   "id": "ab5721cd",
   "metadata": {},
   "source": [
    "## Spark Session Initialization\n",
    "Initializing a Spark session with increased memory allocation to handle large datasets."
   ]
  },
  {
   "cell_type": "code",
   "execution_count": 82,
   "id": "00bf7c7c",
   "metadata": {},
   "outputs": [],
   "source": [
    "spark = SparkSession.builder \\\n",
    "    .appName(\"KuaiRecALS\") \\\n",
    "    .config(\"spark.driver.memory\", \"8g\") \\\n",
    "    .config(\"spark.executor.memory\", \"8g\") \\\n",
    "    .config(\"spark.driver.maxResultSize\", \"2g\") \\\n",
    "    .getOrCreate()"
   ]
  },
  {
   "cell_type": "markdown",
   "id": "61df6203",
   "metadata": {},
   "source": [
    "# Data Loading and Sampling\n",
    "Loading the user-item interaction data and sampling a fraction to fit into memory for demonstration purposes."
   ]
  },
  {
   "cell_type": "code",
   "execution_count": 83,
   "id": "24b1ee41",
   "metadata": {},
   "outputs": [
    {
     "data": {
      "text/html": [
       "<div>\n",
       "<style scoped>\n",
       "    .dataframe tbody tr th:only-of-type {\n",
       "        vertical-align: middle;\n",
       "    }\n",
       "\n",
       "    .dataframe tbody tr th {\n",
       "        vertical-align: top;\n",
       "    }\n",
       "\n",
       "    .dataframe thead th {\n",
       "        text-align: right;\n",
       "    }\n",
       "</style>\n",
       "<table border=\"1\" class=\"dataframe\">\n",
       "  <thead>\n",
       "    <tr style=\"text-align: right;\">\n",
       "      <th></th>\n",
       "      <th>user_id</th>\n",
       "      <th>video_id</th>\n",
       "      <th>play_duration</th>\n",
       "      <th>video_duration</th>\n",
       "      <th>time</th>\n",
       "      <th>date</th>\n",
       "      <th>timestamp</th>\n",
       "      <th>watch_ratio</th>\n",
       "    </tr>\n",
       "  </thead>\n",
       "  <tbody>\n",
       "    <tr>\n",
       "      <th>224263</th>\n",
       "      <td>385</td>\n",
       "      <td>6088</td>\n",
       "      <td>3010</td>\n",
       "      <td>14240</td>\n",
       "      <td>2020-08-08 09:49:55.461</td>\n",
       "      <td>20200808.0</td>\n",
       "      <td>1.596851e+09</td>\n",
       "      <td>0.211376</td>\n",
       "    </tr>\n",
       "    <tr>\n",
       "      <th>2682796</th>\n",
       "      <td>4275</td>\n",
       "      <td>570</td>\n",
       "      <td>1543</td>\n",
       "      <td>25310</td>\n",
       "      <td>2020-07-29 20:38:30.483</td>\n",
       "      <td>20200729.0</td>\n",
       "      <td>1.596026e+09</td>\n",
       "      <td>0.060964</td>\n",
       "    </tr>\n",
       "    <tr>\n",
       "      <th>32875</th>\n",
       "      <td>55</td>\n",
       "      <td>7281</td>\n",
       "      <td>1276</td>\n",
       "      <td>6667</td>\n",
       "      <td>2020-08-28 07:44:46.355</td>\n",
       "      <td>20200828.0</td>\n",
       "      <td>1.598572e+09</td>\n",
       "      <td>0.191390</td>\n",
       "    </tr>\n",
       "    <tr>\n",
       "      <th>262283</th>\n",
       "      <td>477</td>\n",
       "      <td>7093</td>\n",
       "      <td>6709</td>\n",
       "      <td>28929</td>\n",
       "      <td>2020-07-14 19:24:31.309</td>\n",
       "      <td>20200714.0</td>\n",
       "      <td>1.594726e+09</td>\n",
       "      <td>0.231913</td>\n",
       "    </tr>\n",
       "    <tr>\n",
       "      <th>3228863</th>\n",
       "      <td>5000</td>\n",
       "      <td>7125</td>\n",
       "      <td>2976</td>\n",
       "      <td>6016</td>\n",
       "      <td>2020-07-18 11:21:36.833</td>\n",
       "      <td>20200718.0</td>\n",
       "      <td>1.595042e+09</td>\n",
       "      <td>0.494681</td>\n",
       "    </tr>\n",
       "  </tbody>\n",
       "</table>\n",
       "</div>"
      ],
      "text/plain": [
       "         user_id  video_id  play_duration  video_duration  \\\n",
       "224263       385      6088           3010           14240   \n",
       "2682796     4275       570           1543           25310   \n",
       "32875         55      7281           1276            6667   \n",
       "262283       477      7093           6709           28929   \n",
       "3228863     5000      7125           2976            6016   \n",
       "\n",
       "                            time        date     timestamp  watch_ratio  \n",
       "224263   2020-08-08 09:49:55.461  20200808.0  1.596851e+09     0.211376  \n",
       "2682796  2020-07-29 20:38:30.483  20200729.0  1.596026e+09     0.060964  \n",
       "32875    2020-08-28 07:44:46.355  20200828.0  1.598572e+09     0.191390  \n",
       "262283   2020-07-14 19:24:31.309  20200714.0  1.594726e+09     0.231913  \n",
       "3228863  2020-07-18 11:21:36.833  20200718.0  1.595042e+09     0.494681  "
      ]
     },
     "execution_count": 83,
     "metadata": {},
     "output_type": "execute_result"
    }
   ],
   "source": [
    "interactions_raw = pd.read_csv(\"data_final_project/KuaiRec 2.0/data/small_matrix.csv\")\n",
    "\n",
    "# Reduce the size of the DataFrame to fit into memory\n",
    "interactions_raw = interactions_raw.sample(frac=0.1, random_state=42)\n",
    "interactions_raw.head(5)"
   ]
  },
  {
   "cell_type": "markdown",
   "id": "96df14f1",
   "metadata": {},
   "source": [
    "## Data Preparation"
   ]
  },
  {
   "cell_type": "markdown",
   "id": "139b46cf",
   "metadata": {},
   "source": [
    "Creating a binary 'is_like' column to represent positive feedback and normalizing ratings for ALS."
   ]
  },
  {
   "cell_type": "code",
   "execution_count": null,
   "id": "ae13d18b",
   "metadata": {},
   "outputs": [
    {
     "data": {
      "text/html": [
       "<div>\n",
       "<style scoped>\n",
       "    .dataframe tbody tr th:only-of-type {\n",
       "        vertical-align: middle;\n",
       "    }\n",
       "\n",
       "    .dataframe tbody tr th {\n",
       "        vertical-align: top;\n",
       "    }\n",
       "\n",
       "    .dataframe thead th {\n",
       "        text-align: right;\n",
       "    }\n",
       "</style>\n",
       "<table border=\"1\" class=\"dataframe\">\n",
       "  <thead>\n",
       "    <tr style=\"text-align: right;\">\n",
       "      <th></th>\n",
       "      <th>user_id</th>\n",
       "      <th>video_id</th>\n",
       "      <th>play_duration</th>\n",
       "      <th>video_duration</th>\n",
       "      <th>time</th>\n",
       "      <th>date</th>\n",
       "      <th>timestamp</th>\n",
       "      <th>watch_ratio</th>\n",
       "      <th>is_like</th>\n",
       "      <th>ratings</th>\n",
       "    </tr>\n",
       "  </thead>\n",
       "  <tbody>\n",
       "    <tr>\n",
       "      <th>224263</th>\n",
       "      <td>385</td>\n",
       "      <td>6088</td>\n",
       "      <td>3010</td>\n",
       "      <td>14240</td>\n",
       "      <td>2020-08-08 09:49:55.461</td>\n",
       "      <td>20200808.0</td>\n",
       "      <td>1.596851e+09</td>\n",
       "      <td>0.211376</td>\n",
       "      <td>0</td>\n",
       "      <td>0</td>\n",
       "    </tr>\n",
       "    <tr>\n",
       "      <th>2682796</th>\n",
       "      <td>4275</td>\n",
       "      <td>570</td>\n",
       "      <td>1543</td>\n",
       "      <td>25310</td>\n",
       "      <td>2020-07-29 20:38:30.483</td>\n",
       "      <td>20200729.0</td>\n",
       "      <td>1.596026e+09</td>\n",
       "      <td>0.060964</td>\n",
       "      <td>0</td>\n",
       "      <td>0</td>\n",
       "    </tr>\n",
       "    <tr>\n",
       "      <th>32875</th>\n",
       "      <td>55</td>\n",
       "      <td>7281</td>\n",
       "      <td>1276</td>\n",
       "      <td>6667</td>\n",
       "      <td>2020-08-28 07:44:46.355</td>\n",
       "      <td>20200828.0</td>\n",
       "      <td>1.598572e+09</td>\n",
       "      <td>0.191390</td>\n",
       "      <td>0</td>\n",
       "      <td>0</td>\n",
       "    </tr>\n",
       "    <tr>\n",
       "      <th>262283</th>\n",
       "      <td>477</td>\n",
       "      <td>7093</td>\n",
       "      <td>6709</td>\n",
       "      <td>28929</td>\n",
       "      <td>2020-07-14 19:24:31.309</td>\n",
       "      <td>20200714.0</td>\n",
       "      <td>1.594726e+09</td>\n",
       "      <td>0.231913</td>\n",
       "      <td>0</td>\n",
       "      <td>0</td>\n",
       "    </tr>\n",
       "    <tr>\n",
       "      <th>3228863</th>\n",
       "      <td>5000</td>\n",
       "      <td>7125</td>\n",
       "      <td>2976</td>\n",
       "      <td>6016</td>\n",
       "      <td>2020-07-18 11:21:36.833</td>\n",
       "      <td>20200718.0</td>\n",
       "      <td>1.595042e+09</td>\n",
       "      <td>0.494681</td>\n",
       "      <td>0</td>\n",
       "      <td>0</td>\n",
       "    </tr>\n",
       "  </tbody>\n",
       "</table>\n",
       "</div>"
      ],
      "text/plain": [
       "         user_id  video_id  play_duration  video_duration  \\\n",
       "224263       385      6088           3010           14240   \n",
       "2682796     4275       570           1543           25310   \n",
       "32875         55      7281           1276            6667   \n",
       "262283       477      7093           6709           28929   \n",
       "3228863     5000      7125           2976            6016   \n",
       "\n",
       "                            time        date     timestamp  watch_ratio  \\\n",
       "224263   2020-08-08 09:49:55.461  20200808.0  1.596851e+09     0.211376   \n",
       "2682796  2020-07-29 20:38:30.483  20200729.0  1.596026e+09     0.060964   \n",
       "32875    2020-08-28 07:44:46.355  20200828.0  1.598572e+09     0.191390   \n",
       "262283   2020-07-14 19:24:31.309  20200714.0  1.594726e+09     0.231913   \n",
       "3228863  2020-07-18 11:21:36.833  20200718.0  1.595042e+09     0.494681   \n",
       "\n",
       "         is_like  ratings  \n",
       "224263         0        0  \n",
       "2682796        0        0  \n",
       "32875          0        0  \n",
       "262283         0        0  \n",
       "3228863        0        0  "
      ]
     },
     "execution_count": 84,
     "metadata": {},
     "output_type": "execute_result"
    }
   ],
   "source": [
    "interactions_df = interactions_raw.copy()\n",
    "interactions_df[\"is_like\"] = interactions_df['watch_ratio'].apply(lambda x: 1 if x >= 2 else 0)\n",
    "interactions_df['ratings'] = interactions_df['watch_ratio'].apply(lambda x: 1 if x >= 2 else 0)\n",
    "interactions_df.head(5)"
   ]
  },
  {
   "cell_type": "markdown",
   "id": "4a48d7e5",
   "metadata": {},
   "source": [
    "### Conversion to Spark DataFrame"
   ]
  },
  {
   "cell_type": "code",
   "execution_count": 85,
   "id": "2245cb9f",
   "metadata": {},
   "outputs": [],
   "source": [
    "interactions_spark = spark.createDataFrame(interactions_df)"
   ]
  },
  {
   "cell_type": "markdown",
   "id": "4d38a46e",
   "metadata": {},
   "source": [
    "### Selecting Relevant Columns"
   ]
  },
  {
   "cell_type": "code",
   "execution_count": 86,
   "id": "cd87bd30",
   "metadata": {},
   "outputs": [
    {
     "name": "stdout",
     "output_type": "stream",
     "text": [
      "+-------+--------+-------+\n",
      "|user_id|video_id|ratings|\n",
      "+-------+--------+-------+\n",
      "|    385|    6088|      0|\n",
      "|   4275|     570|      0|\n",
      "|     55|    7281|      0|\n",
      "|    477|    7093|      0|\n",
      "|   5000|    7125|      0|\n",
      "+-------+--------+-------+\n",
      "only showing top 5 rows\n",
      "\n"
     ]
    },
    {
     "name": "stderr",
     "output_type": "stream",
     "text": [
      "25/05/17 23:29:23 WARN TaskSetManager: Stage 975 contains a task of very large size (2287 KiB). The maximum recommended task size is 1000 KiB.\n"
     ]
    }
   ],
   "source": [
    "ratings_spark = interactions_spark.select('user_id', 'video_id', 'ratings')\n",
    "ratings_spark.show(5)"
   ]
  },
  {
   "cell_type": "markdown",
   "id": "8e190a98",
   "metadata": {},
   "source": [
    "### Indexing User and Item IDs\n",
    "Encoding user and video IDs as numerical indices, which is required for Spark's ALS implementation."
   ]
  },
  {
   "cell_type": "code",
   "execution_count": 87,
   "id": "8b069038",
   "metadata": {},
   "outputs": [
    {
     "name": "stderr",
     "output_type": "stream",
     "text": [
      "25/05/17 23:29:23 WARN TaskSetManager: Stage 976 contains a task of very large size (2287 KiB). The maximum recommended task size is 1000 KiB.\n",
      "25/05/17 23:29:24 WARN TaskSetManager: Stage 979 contains a task of very large size (2287 KiB). The maximum recommended task size is 1000 KiB.\n",
      "25/05/17 23:29:24 WARN TaskSetManager: Stage 982 contains a task of very large size (2287 KiB). The maximum recommended task size is 1000 KiB.\n"
     ]
    },
    {
     "name": "stdout",
     "output_type": "stream",
     "text": [
      "+-------+--------+-------+--------------+-------------+\n",
      "|user_id|video_id|ratings|video_id_index|user_id_index|\n",
      "+-------+--------+-------+--------------+-------------+\n",
      "|    385|    6088|      0|        1511.0|        549.0|\n",
      "|   4275|     570|      0|        2641.0|        354.0|\n",
      "|     55|    7281|      0|        2204.0|       1298.0|\n",
      "|    477|    7093|      0|        2087.0|        307.0|\n",
      "|   5000|    7125|      0|          53.0|        655.0|\n",
      "+-------+--------+-------+--------------+-------------+\n",
      "only showing top 5 rows\n",
      "\n"
     ]
    }
   ],
   "source": [
    "indexer = [\n",
    "    StringIndexer(inputCol=column, outputCol=column + \"_index\")\n",
    "    for column in list(set(ratings_spark.columns) - set([\"ratings\"]))\n",
    "]\n",
    "\n",
    "pipeline = Pipeline(stages=indexer)\n",
    "transformed = pipeline.fit(ratings_spark).transform(ratings_spark)\n",
    "transformed.show(5)"
   ]
  },
  {
   "cell_type": "markdown",
   "id": "09cb1a7f",
   "metadata": {},
   "source": [
    "### Train-Test Split\n",
    "Splitting the data into training and test sets to evaluate model performance."
   ]
  },
  {
   "cell_type": "code",
   "execution_count": 88,
   "id": "85e0c962",
   "metadata": {},
   "outputs": [],
   "source": [
    "(training, test) = transformed.randomSplit([0.8, 0.2], seed=42)"
   ]
  },
  {
   "cell_type": "markdown",
   "id": "6fd2dc23",
   "metadata": {},
   "source": [
    "# ALS Model Training\n",
    "Configuring and training the ALS model to learn latent factors for users and items."
   ]
  },
  {
   "cell_type": "code",
   "execution_count": 89,
   "id": "a4004217",
   "metadata": {},
   "outputs": [
    {
     "name": "stderr",
     "output_type": "stream",
     "text": [
      "25/05/17 23:29:24 WARN TaskSetManager: Stage 983 contains a task of very large size (2287 KiB). The maximum recommended task size is 1000 KiB.\n",
      "25/05/17 23:29:24 WARN TaskSetManager: Stage 984 contains a task of very large size (2287 KiB). The maximum recommended task size is 1000 KiB.\n"
     ]
    }
   ],
   "source": [
    "als = ALS(\n",
    "    maxIter=5,\n",
    "    regParam=0.25,\n",
    "    rank=25,\n",
    "    userCol=\"user_id_index\",\n",
    "    itemCol=\"video_id_index\",\n",
    "    ratingCol=\"ratings\",\n",
    "    coldStartStrategy=\"drop\",\n",
    "    nonnegative=True,\n",
    ")\n",
    "\n",
    "model = als.fit(training)"
   ]
  },
  {
   "cell_type": "markdown",
   "id": "9cb2850f",
   "metadata": {},
   "source": [
    "## Evaluation\n",
    "Evaluating the ALS model using RMSE on the test set to assess prediction accuracy."
   ]
  },
  {
   "cell_type": "code",
   "execution_count": 90,
   "id": "4f703445",
   "metadata": {},
   "outputs": [
    {
     "name": "stderr",
     "output_type": "stream",
     "text": [
      "25/05/17 23:29:25 WARN TaskSetManager: Stage 1017 contains a task of very large size (2287 KiB). The maximum recommended task size is 1000 KiB.\n",
      "                                                                                \r"
     ]
    },
    {
     "name": "stdout",
     "output_type": "stream",
     "text": [
      "RMSE=0.46516946190313313\n"
     ]
    },
    {
     "name": "stderr",
     "output_type": "stream",
     "text": [
      "25/05/17 23:29:26 WARN TaskSetManager: Stage 1056 contains a task of very large size (2287 KiB). The maximum recommended task size is 1000 KiB.\n",
      "[Stage 1070:=======>       (5 + 5) / 10][Stage 1071:>              (0 + 9) / 10]\r"
     ]
    },
    {
     "name": "stdout",
     "output_type": "stream",
     "text": [
      "+-------+--------+-------+--------------+-------------+------------+\n",
      "|user_id|video_id|ratings|video_id_index|user_id_index|  prediction|\n",
      "+-------+--------+-------+--------------+-------------+------------+\n",
      "|   1015|    8718|      0|        1645.0|        392.0|  0.24896477|\n",
      "|   2139|    8718|      1|        1645.0|       1064.0|  0.23429392|\n",
      "|   1884|   10364|      0|        1238.0|       1269.0| 0.068184175|\n",
      "|   1354|    8718|      1|        1645.0|        860.0|  0.23267432|\n",
      "|    896|   10416|      0|        2122.0|        222.0|0.0078038597|\n",
      "+-------+--------+-------+--------------+-------------+------------+\n",
      "only showing top 5 rows\n",
      "\n"
     ]
    },
    {
     "name": "stderr",
     "output_type": "stream",
     "text": [
      "                                                                                \r"
     ]
    }
   ],
   "source": [
    "evaluator = RegressionEvaluator(\n",
    "    metricName=\"rmse\", labelCol=\"ratings\", predictionCol=\"prediction\"\n",
    ")\n",
    "\n",
    "predictions = model.transform(test)\n",
    "rmse = evaluator.evaluate(predictions)\n",
    "\n",
    "print(\"RMSE=\" + str(rmse))\n",
    "predictions.show(5)"
   ]
  },
  {
   "cell_type": "markdown",
   "id": "dbfc4cc2",
   "metadata": {},
   "source": [
    "## Post-processing Recommendations\n",
    "Converting Spark recommendations to Pandas, mapping indices back to original IDs, and organizing recommendations for evaluation."
   ]
  },
  {
   "cell_type": "code",
   "execution_count": 92,
   "id": "4437fc92",
   "metadata": {},
   "outputs": [
    {
     "name": "stderr",
     "output_type": "stream",
     "text": [
      "25/05/17 23:29:30 WARN TaskSetManager: Stage 1152 contains a task of very large size (2287 KiB). The maximum recommended task size is 1000 KiB.\n"
     ]
    },
    {
     "name": "stdout",
     "output_type": "stream",
     "text": [
      "      user_id                                    recommendations\n",
      "0          14  [(1305, 0.3922075629234314), (4123, 0.38031759...\n",
      "1          19  [(6787, 0.35512658953666687), (6222, 0.3460551...\n",
      "2          21  [(600, 0.3670656085014343), (154, 0.3574683964...\n",
      "3          23  [(154, 0.291812002658844), (2130, 0.2933684587...\n",
      "4          24  [(314, 0.24343322217464447), (6787, 0.25202533...\n",
      "...       ...                                                ...\n",
      "1406     7142  [(9907, 0.31830838322639465), (2130, 0.3290573...\n",
      "1407     7147  [(2130, 0.4634591341018677), (600, 0.473377108...\n",
      "1408     7153  [(4040, 0.23970308899879456), (6222, 0.2331626...\n",
      "1409     7159  [(154, 0.3142992854118347), (6222, 0.308887779...\n",
      "1410     7162  [(1305, 0.39347967505455017), (2130, 0.3893636...\n",
      "\n",
      "[1411 rows x 2 columns]\n"
     ]
    },
    {
     "name": "stderr",
     "output_type": "stream",
     "text": [
      "/var/folders/14/crm6wxzx7813ytz60bfsjbhm0000gn/T/ipykernel_16343/973738124.py:35: SettingWithCopyWarning: \n",
      "A value is trying to be set on a copy of a slice from a DataFrame.\n",
      "Try using .loc[row_indexer,col_indexer] = value instead\n",
      "\n",
      "See the caveats in the documentation: https://pandas.pydata.org/pandas-docs/stable/user_guide/indexing.html#returning-a-view-versus-a-copy\n",
      "  new[\"recommendations\"] = list(zip(new.video_id, new.ratings))\n"
     ]
    }
   ],
   "source": [
    "recs = model.recommendForAllUsers(10).toPandas()\n",
    "df_recs = (\n",
    "    recs.recommendations.apply(pd.Series)\n",
    "    .merge(recs, right_index=True, left_index=True)\n",
    "    .drop([\"recommendations\"], axis=1)\n",
    "    .melt(id_vars=[\"user_id_index\"], value_name=\"recommendation\")\n",
    "    .drop(\"variable\", axis=1)\n",
    "    .dropna()\n",
    ")\n",
    "\n",
    "df_recs = df_recs.sort_values(\"user_id_index\")\n",
    "df_recs = pd.concat(\n",
    "    [df_recs[\"recommendation\"].apply(pd.Series), df_recs[\"user_id_index\"]], axis=1\n",
    ")\n",
    "\n",
    "df_recs.columns = [\"product_id_index\", \"ratings\", \"reviewer_id\"]\n",
    "tmp = transformed.select(\n",
    "    transformed[\"user_id\"],\n",
    "    transformed[\"user_id_index\"],\n",
    "    transformed[\"video_id\"],\n",
    "    transformed[\"video_id_index\"],\n",
    ")\n",
    "tmp = tmp.toPandas()\n",
    "\n",
    "dict1 = dict(zip(tmp[\"user_id_index\"], tmp[\"user_id\"]))\n",
    "dict2 = dict(zip(tmp[\"video_id_index\"], tmp[\"video_id\"]))\n",
    "\n",
    "df_recs_copy = df_recs.copy()\n",
    "df_recs_copy.loc[:, \"user_id\"] = df_recs[\"reviewer_id\"].map(dict1)\n",
    "df_recs_copy.loc[:, \"video_id\"] = df_recs[\"product_id_index\"].map(dict2)\n",
    "df_recs_copy = df_recs_copy.sort_values(\"user_id\")\n",
    "df_recs_copy.reset_index(drop=True, inplace=True)\n",
    "\n",
    "new = df_recs_copy[[\"user_id\", \"video_id\", \"ratings\"]]\n",
    "new[\"recommendations\"] = list(zip(new.video_id, new.ratings))\n",
    "\n",
    "res = new[[\"user_id\", \"recommendations\"]]\n",
    "res_new = res[\"recommendations\"].groupby([res.user_id]).apply(list).reset_index()\n",
    "\n",
    "print(res_new)"
   ]
  },
  {
   "cell_type": "markdown",
   "id": "55a2c380",
   "metadata": {},
   "source": [
    "## Evaluation"
   ]
  },
  {
   "cell_type": "code",
   "execution_count": 93,
   "id": "6a143931",
   "metadata": {},
   "outputs": [],
   "source": [
    "def evaluate_topk_metrics(y_true, top_k_preds, k=10):\n",
    "    top_k = top_k_preds[:k]\n",
    "    relevant = set(y_true)\n",
    "    hits = [1 if item in relevant else 0 for item in top_k]\n",
    "\n",
    "    precision = sum(hits) / k\n",
    "    recall = sum(hits) / len(relevant) if relevant else 0.0\n",
    "    dcg = sum(hit / np.log2(i + 2) for i, hit in enumerate(hits))\n",
    "    ideal_hits = [1] * min(len(relevant), k)\n",
    "    idcg = sum(1 / np.log2(i + 2) for i in range(len(ideal_hits)))\n",
    "    ndcg = dcg / idcg if idcg != 0 else 0.0\n",
    "\n",
    "    # MAP@k: mean average precision\n",
    "    ap_sum = 0.0\n",
    "    hit_count = 0\n",
    "    for i, hit in enumerate(hits):\n",
    "        if hit:\n",
    "            hit_count += 1\n",
    "            ap_sum += hit_count / (i + 1)\n",
    "    map_k = ap_sum / min(len(relevant), k) if relevant else 0.0\n",
    "\n",
    "    return precision, recall, ndcg, map_k\n"
   ]
  },
  {
   "cell_type": "code",
   "execution_count": 94,
   "id": "8baa8f84",
   "metadata": {},
   "outputs": [
    {
     "name": "stdout",
     "output_type": "stream",
     "text": [
      "Results for k=1:\n",
      "  Mean Precision@1: 0.0886\n",
      "  Mean Recall@1: 0.0009\n",
      "  Mean NDCG@1: 0.0886\n",
      "  Mean MAP@1: 0.0886\n",
      "\n",
      "Results for k=5:\n",
      "  Mean Precision@5: 0.0920\n",
      "  Mean Recall@5: 0.0049\n",
      "  Mean NDCG@5: 0.0919\n",
      "  Mean MAP@5: 0.0467\n",
      "\n",
      "Results for k=10:\n",
      "  Mean Precision@10: 0.0938\n",
      "  Mean Recall@10: 0.0098\n",
      "  Mean NDCG@10: 0.0931\n",
      "  Mean MAP@10: 0.0335\n",
      "\n",
      "Results for k=20:\n",
      "  Mean Precision@20: 0.0469\n",
      "  Mean Recall@20: 0.0098\n",
      "  Mean NDCG@20: 0.0601\n",
      "  Mean MAP@20: 0.0167\n",
      "\n"
     ]
    }
   ],
   "source": [
    "user_recs_dict = dict(zip(res_new[\"user_id\"], res_new[\"recommendations\"]))\n",
    "\n",
    "k_values = [1, 5, 10, 20]\n",
    "results = []\n",
    "\n",
    "for k in k_values:\n",
    "    all_precisions, all_recalls, all_ndcgs, all_maps = [], [], [], []\n",
    "    for user_id, recs in user_recs_dict.items():\n",
    "        video_ids = [video_id for video_id, _ in recs][:k]\n",
    "        y_true = interactions_df[(interactions_df[\"user_id\"] == user_id) & (interactions_df[\"is_like\"] == 1)][\"video_id\"].tolist()\n",
    "        if not y_true or not video_ids:\n",
    "            continue\n",
    "        precision, recall, ndcg, map_k = evaluate_topk_metrics(y_true, video_ids, k)\n",
    "        all_precisions.append(precision)\n",
    "        all_recalls.append(recall)\n",
    "        all_ndcgs.append(ndcg)\n",
    "        all_maps.append(map_k)\n",
    "    results.append({\n",
    "        \"k\": k,\n",
    "        \"precision\": np.mean(all_precisions),\n",
    "        \"recall\": np.mean(all_recalls),\n",
    "        \"ndcg\": np.mean(all_ndcgs),\n",
    "        \"map\": np.mean(all_maps)\n",
    "    })\n",
    "\n",
    "for res in results:\n",
    "    print(f\"Results for k={res['k']}:\")\n",
    "    print(f\"  Mean Precision@{res['k']}: {res['precision']:.4f}\")\n",
    "    print(f\"  Mean Recall@{res['k']}: {res['recall']:.4f}\")\n",
    "    print(f\"  Mean NDCG@{res['k']}: {res['ndcg']:.4f}\")\n",
    "    print(f\"  Mean MAP@{res['k']}: {res['map']:.4f}\\n\")"
   ]
  }
 ],
 "metadata": {
  "kernelspec": {
   "display_name": "rema-project",
   "language": "python",
   "name": "python3"
  },
  "language_info": {
   "codemirror_mode": {
    "name": "ipython",
    "version": 3
   },
   "file_extension": ".py",
   "mimetype": "text/x-python",
   "name": "python",
   "nbconvert_exporter": "python",
   "pygments_lexer": "ipython3",
   "version": "3.12.10"
  }
 },
 "nbformat": 4,
 "nbformat_minor": 5
}
